{
 "cells": [
  {
   "cell_type": "markdown",
   "id": "d77d6f56-76d9-4df5-b4fe-681d8504a26e",
   "metadata": {},
   "source": [
    "# Data Science Ecosystem"
   ]
  },
  {
   "attachments": {},
   "cell_type": "markdown",
   "id": "97b3dba3-4743-48db-ac35-2c3fb83d5632",
   "metadata": {},
   "source": [
    "In this notebook, Data Science Tools and Ecosystem are summarized."
   ]
  },
  {
   "cell_type": "markdown",
   "id": "0f9bd051-7777-4e95-b65e-805107993c1e",
   "metadata": {},
   "source": [
    "Some popular languages in Data Science are:\n",
    "1. R\n",
    "2. SQL\n",
    "3. Python"
   ]
  },
  {
   "cell_type": "markdown",
   "id": "ffd2e17c-d8c1-4622-8bac-3ab6ec08a7a6",
   "metadata": {},
   "source": [
    "Some commonly used libraries in Data Science are:\n",
    "1. Pandas\n",
    "2. Keras\n",
    "3. NumPy"
   ]
  },
  {
   "cell_type": "markdown",
   "id": "f8cccebd-0581-4d20-8e8d-0836d30fe003",
   "metadata": {},
   "source": [
    "|Data Science Tools|\n",
    "|----|\n",
    "|Apache Spark|\n",
    "|Hadoop|\n",
    "|SAS|"
   ]
  },
  {
   "cell_type": "markdown",
   "id": "b92542b2-faf4-485e-ac27-bc119127fb25",
   "metadata": {},
   "source": [
    "### Below are examples of evalluating arithmetic expressions in Python"
   ]
  },
  {
   "cell_type": "code",
   "execution_count": 1,
   "id": "dda33902-12df-45dc-b6f6-0355b335ecae",
   "metadata": {},
   "outputs": [
    {
     "data": {
      "text/plain": [
       "17"
      ]
     },
     "execution_count": 1,
     "metadata": {},
     "output_type": "execute_result"
    }
   ],
   "source": [
    "#This is a common arithmetic expression to multiply then add integers\n",
    "(3*4)+5"
   ]
  },
  {
   "cell_type": "code",
   "execution_count": 3,
   "id": "24ca0ad6-b1dd-4d9a-8879-25d8d748a6ed",
   "metadata": {},
   "outputs": [
    {
     "data": {
      "text/plain": [
       "3.3333333333333335"
      ]
     },
     "execution_count": 3,
     "metadata": {},
     "output_type": "execute_result"
    }
   ],
   "source": [
    "#This will convert 200 minuites into hours by dividing by 60\n",
    "(200/60)"
   ]
  },
  {
   "cell_type": "markdown",
   "id": "e1c2e9aa-f492-4c14-b423-15b1a74b3feb",
   "metadata": {},
   "source": [
    "__Objectives__\n",
    "* Some popular languages in Data Science\n",
    "* Some commonly used libraries in Data Science\n",
    "* How to do simple arethmetic in Jupyter Notebooks\n",
    "* How to make a simple table in Jupyter Notebook"
   ]
  },
  {
   "cell_type": "markdown",
   "id": "6d0c4b66-9119-481f-933b-0d22ac5bc370",
   "metadata": {},
   "source": [
    "## Author\n",
    "Erik DuCharme"
   ]
  },
  {
   "cell_type": "code",
   "execution_count": null,
   "id": "ad1542ea-f320-440c-8b00-07395fdfe9ab",
   "metadata": {},
   "outputs": [],
   "source": []
  }
 ],
 "metadata": {
  "kernelspec": {
   "display_name": "Python 3 (ipykernel)",
   "language": "python",
   "name": "python3"
  },
  "language_info": {
   "codemirror_mode": {
    "name": "ipython",
    "version": 3
   },
   "file_extension": ".py",
   "mimetype": "text/x-python",
   "name": "python",
   "nbconvert_exporter": "python",
   "pygments_lexer": "ipython3",
   "version": "3.12.4"
  }
 },
 "nbformat": 4,
 "nbformat_minor": 5
}
